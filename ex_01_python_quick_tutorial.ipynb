{
 "cells": [
  {
   "cell_type": "code",
   "execution_count": 1,
   "id": "9777d6e3-1c79-4531-8b9e-72be8202104c",
   "metadata": {},
   "outputs": [
    {
     "ename": "SyntaxError",
     "evalue": "invalid syntax (<ipython-input-1-205587925413>, line 1)",
     "output_type": "error",
     "traceback": [
      "\u001b[1;36m  File \u001b[1;32m\"<ipython-input-1-205587925413>\"\u001b[1;36m, line \u001b[1;32m1\u001b[0m\n\u001b[1;33m    print{'hello'}\u001b[0m\n\u001b[1;37m         ^\u001b[0m\n\u001b[1;31mSyntaxError\u001b[0m\u001b[1;31m:\u001b[0m invalid syntax\n"
     ]
    }
   ],
   "source": [
    "print{'hello'}"
   ]
  },
  {
   "cell_type": "code",
   "execution_count": 2,
   "id": "017a0cf0-a0ff-41d7-bc2e-350a82045d55",
   "metadata": {},
   "outputs": [
    {
     "name": "stdout",
     "output_type": "stream",
     "text": [
      "hello python\n"
     ]
    }
   ],
   "source": [
    "print('hello python')"
   ]
  },
  {
   "cell_type": "code",
   "execution_count": 3,
   "id": "ab14f58b-e4fb-4a38-a3ec-80845b5d0d3f",
   "metadata": {},
   "outputs": [
    {
     "name": "stdout",
     "output_type": "stream",
     "text": [
      "hello world!\n",
      "__________________________________________________\n",
      "编程让设计更具创造力！\n",
      "everybody should learn how to code a computer,because it teaches you how to think,and allows designers more creative！\n"
     ]
    }
   ],
   "source": [
    "print(\"hello world!\")\n",
    "print(\"_\"*50)\n",
    "print(\"编程让设计更具创造力！\")\n",
    "print(\"everybody should learn how to code a computer,because it teaches you how to think,and allows designers more creative！\")"
   ]
  },
  {
   "cell_type": "code",
   "execution_count": 14,
   "id": "6ca532f9-7342-42d9-84d2-49cd84ab0a54",
   "metadata": {},
   "outputs": [
    {
     "name": "stdout",
     "output_type": "stream",
     "text": [
      "加： 10\n",
      "减 6\n",
      "乘 21\n",
      "除 2.0\n",
      "整除 3\n",
      "余数 1\n",
      "幂 343\n"
     ]
    }
   ],
   "source": [
    "print(\"加：\",7+3)\n",
    "print(\"减\",7-1)\n",
    "print(\"乘\",7*3)\n",
    "print(\"除\",6/3)\n",
    "print(\"整除\",7//2)\n",
    "print(\"余数\",7%2)\n",
    "print(\"幂\",7**3)"
   ]
  },
  {
   "cell_type": "code",
   "execution_count": 13,
   "id": "cd1d1390-7e67-4950-bc19-f05dfe373751",
   "metadata": {},
   "outputs": [
    {
     "name": "stdout",
     "output_type": "stream",
     "text": [
      "monadic_equation= 27.0\n",
      "monadic_equation=27.00\n",
      "monadic_equation=27.00\n"
     ]
    }
   ],
   "source": [
    "x=5.0\n",
    "monadic_equation=5*x+2\n",
    "print(\"monadic_equation=\",monadic_equation)\n",
    "print(\"monadic_equation=%.2f\"%monadic_equation)#%字符串格式化方法\n",
    "print(\"monadic_equation={:.2f}\".format(monadic_equation))#format()字符串格式化方法"
   ]
  },
  {
   "cell_type": "code",
   "execution_count": 17,
   "id": "6a585101-e2eb-42d7-a53c-2028b97b2132",
   "metadata": {},
   "outputs": [
    {
     "name": "stdout",
     "output_type": "stream",
     "text": [
      "The longitude of Shanghai coordinate is 120.52,and the lantitude is 30.4.\n"
     ]
    }
   ],
   "source": [
    "city_name=\"Shanghai\"\n",
    "coordinate_longitude=120.52\n",
    "coordinate_lantitude=30.40\n",
    "print(\"The longitude of Shanghai coordinate is {lon:.2f},and the lantitude is {lat}.\".format(lon=coordinate_longitude,lat=coordinate_lantitude))"
   ]
  },
  {
   "cell_type": "code",
   "execution_count": 22,
   "id": "6651e486-d158-4d2d-b864-b08fef7860d3",
   "metadata": {},
   "outputs": [
    {
     "name": "stdout",
     "output_type": "stream",
     "text": [
      "func_2=3\n"
     ]
    }
   ],
   "source": [
    "x,y,b=3,4,9#unpaking序列解包 不太懂\n",
    "func_2=5*x+4*y+b\n",
    "print(\"func_2={}\".format(x,y,b,func_2))"
   ]
  },
  {
   "cell_type": "code",
   "execution_count": 8,
   "id": "4aa3779a-5502-4d24-9939-1fb29be6e368",
   "metadata": {},
   "outputs": [
    {
     "name": "stdout",
     "output_type": "stream",
     "text": [
      "<class 'list'>\n",
      "The list length=5\n",
      "Maximum value=17\n",
      "Minimum value=5\n"
     ]
    }
   ],
   "source": [
    "list_n=list(range(5,20,3)) \n",
    "print(list)\n",
    "print(\"The list length={}\".format(len(list_n)))\n",
    "print(\"Maximum value={}\".format(max(list_n)))\n",
    "print(\"Minimum value={}\".format(min(list_n)))"
   ]
  },
  {
   "cell_type": "code",
   "execution_count": 9,
   "id": "024cee93-874c-40de-83be-cc1b2d6842af",
   "metadata": {},
   "outputs": [
    {
     "name": "stdout",
     "output_type": "stream",
     "text": [
      "['d', 'e', 'f', 'g', 'h', 'i', 'j', 'k', 'l', 'm']\n",
      "__________________________________________________\n",
      "[3:6]->['g', 'h', 'i']\n",
      "[-3:-1]->['k', 'l']\n",
      "[-3:]->['k', 'l', 'm']\n",
      "[:3]->['d', 'e', 'f']\n",
      "[:]->['d', 'e', 'f', 'g', 'h', 'i', 'j', 'k', 'l', 'm']\n"
     ]
    }
   ],
   "source": [
    "list_s=list(map(chr,range(100,110)))\n",
    "print(list_s)\n",
    "print(\"_\"*50)\n",
    "print(\"[3:6]->{}\".format(list_s[3:6]))\n",
    "print(\"[-3:-1]->{}\".format(list_s[-3:-1]))\n",
    "print(\"[-3:]->{}\".format(list_s[-3:]))\n",
    "print(\"[:3]->{}\".format(list_s[:3]))\n",
    "print(\"[:]->{}\".format(list_s[:]))\n"
   ]
  },
  {
   "cell_type": "code",
   "execution_count": 10,
   "id": "fea37d58-1fb9-477c-b37b-65641d69c34e",
   "metadata": {},
   "outputs": [
    {
     "name": "stdout",
     "output_type": "stream",
     "text": [
      "Help on class map in module builtins:\n",
      "\n",
      "class map(object)\n",
      " |  map(func, *iterables) --> map object\n",
      " |  \n",
      " |  Make an iterator that computes the function using arguments from\n",
      " |  each of the iterables.  Stops when the shortest iterable is exhausted.\n",
      " |  \n",
      " |  Methods defined here:\n",
      " |  \n",
      " |  __getattribute__(self, name, /)\n",
      " |      Return getattr(self, name).\n",
      " |  \n",
      " |  __iter__(self, /)\n",
      " |      Implement iter(self).\n",
      " |  \n",
      " |  __next__(self, /)\n",
      " |      Implement next(self).\n",
      " |  \n",
      " |  __reduce__(...)\n",
      " |      Return state information for pickling.\n",
      " |  \n",
      " |  ----------------------------------------------------------------------\n",
      " |  Static methods defined here:\n",
      " |  \n",
      " |  __new__(*args, **kwargs) from builtins.type\n",
      " |      Create and return a new object.  See help(type) for accurate signature.\n",
      "\n"
     ]
    }
   ],
   "source": [
    "help(map)查看说明"
   ]
  },
  {
   "cell_type": "code",
   "execution_count": 11,
   "id": "10207f50-7909-4fae-bfcf-daa9708e35d7",
   "metadata": {},
   "outputs": [
    {
     "name": "stdout",
     "output_type": "stream",
     "text": [
      "Help on built-in function chr in module builtins:\n",
      "\n",
      "chr(i, /)\n",
      "    Return a Unicode string of one character with ordinal i; 0 <= i <= 0x10ffff.\n",
      "\n"
     ]
    }
   ],
   "source": [
    "help(chr)"
   ]
  },
  {
   "cell_type": "code",
   "execution_count": 13,
   "id": "38da0020-e22f-4082-b1c3-66002d0e005f",
   "metadata": {},
   "outputs": [
    {
     "name": "stdout",
     "output_type": "stream",
     "text": [
      "['d', 'e', 'f', 'g', 'h', 'i', 'j', 'k', 'l', 'm']\n",
      "__________________________________________________\n",
      "[0:10:2]->['d', 'f', 'h', 'j', 'l']\n",
      "[::3]->['d', 'g', 'j', 'm']\n",
      "[9:3:-2]->['m', 'k', 'i']\n",
      "[20:3:-2]->['m', 'k', 'i']\n",
      "[7::-2]->['k', 'i', 'g', 'e']\n",
      "[:3:-2]->['m', 'k', 'i']\n"
     ]
    }
   ],
   "source": [
    "print(list_s)\n",
    "print(\"_\"*50)\n",
    "print(\"[0:10:2]->{}\".format(list_s[0:10:2]))\n",
    "print(\"[::3]->{}\".format(list_s[::3]))\n",
    "print(\"[9:3:-2]->{}\".format(list_s[9:3:-2]))\n",
    "print(\"[20:3:-2]->{}\".format(list_s[20:3:-2]))\n",
    "print(\"[7::-2]->{}\".format(list_s[7::-2]))\n",
    "print(\"[:3:-2]->{}\".format(list_s[:3:-2]))"
   ]
  },
  {
   "cell_type": "code",
   "execution_count": 16,
   "id": "18067b50-b32f-4da9-b34d-663e2ac1eefc",
   "metadata": {},
   "outputs": [
    {
     "name": "stdout",
     "output_type": "stream",
     "text": [
      "['d', 'e', 'f', 'g', 'h', 'i', 'j', 'k', 'l', 'm']\n",
      "__________________________________________________\n",
      "list_s[5]=99->['d', 'e', 'f', 'g', 'h', 99, 'j', 'k', 'l', 'm']\n",
      "list_s+[None]*6->['d', 'e', 'f', 'g', 'h', 99, 'j', 'k', 'l', 'm', None, None, None, None, None, None]\n",
      "list_none[13]=2015->['d', 'e', 'f', 'g', 'h', 99, 'j', 'k', 'l', 'm', None, None, None, 2015, None, None]\n",
      "list_none[-6:-3]=list(range(100,104,2))->['d', 'e', 'f', 'g', 'h', 99, 'j', 'k', 'l', 'm', 100, 102, 2015, None, None]\n",
      "list_none[1:1]=[0,0,0,12]->['d', 0, 0, 0, 12, 'e', 'f', 'g', 'h', 99, 'j', 'k', 'l', 'm', 100, 102, 2015, None, None]\n",
      "del list_none[-2:]->['d', 0, 0, 0, 12, 'e', 'f', 'g', 'h', 99, 'j', 'k', 'l', 'm', 100, 102, 2015]\n"
     ]
    }
   ],
   "source": [
    "print(list_s)\n",
    "print(\"_\"*50)\n",
    "list_s[5]=99 #元素赋值\n",
    "print(\"list_s[5]=99->{}\".format(list_s))\n",
    "list_none=list_s+[None]*6\n",
    "print(\"list_s+[None]*6->{}\".format(list_none))\n",
    "list_none[13]=2015\n",
    "print(\"list_none[13]=2015->{}\".format(list_none))\n",
    "list_none[-6:-3]=list(range(100,104,2)) #分片赋值\n",
    "print(\"list_none[-6:-3]=list(range(100,104,2))->{}\".format(list_none))\n",
    "list_none[1:1]=[0,0,0,12]\n",
    "print(\"list_none[1:1]=[0,0,0,12]->{}\".format(list_none))\n",
    "del list_none[-2:] #删除元素\n",
    "print(\"del list_none[-2:]->{}\".format(list_none))"
   ]
  },
  {
   "cell_type": "code",
   "execution_count": 17,
   "id": "a916498e-5923-44b6-85fc-089dfbb7a82c",
   "metadata": {},
   "outputs": [
    {
     "name": "stdout",
     "output_type": "stream",
     "text": [
      "['d', 'e', 'f', 'g', 'h']\n",
      "__________________________________________________\n",
      "lst_s_2.append(99)->['d', 'e', 'f', 'g', 'h', 99]\n",
      "lst_s_2.append(list(range(50,80,5)))->['d', 'e', 'f', 'g', 'h', 99, [50, 55, 60, 65, 70, 75]]\n",
      "lst_s_2.extend(lst_spechars)->['d', 'e', 'f', 'g', 'h', 99, [50, 55, 60, 65, 70, 75], '*', ')', '*']\n",
      "lst_s_2.count('*')=2\n",
      "lst_s_2.index('e')=1\n",
      "lst_s_2.insert(2,[1000,1200,1500])->['d', 'e', [1000, 1200, 1500], 'f', 'g', 'h', 99, [50, 55, 60, 65, 70, 75], '*', ')', '*']\n",
      "lst_s_2.pop(7)_popup->[50, 55, 60, 65, 70, 75]\n",
      "lst_s_2.pop(7)_retention->['d', 'e', [1000, 1200, 1500], 'f', 'g', 'h', 99, '*', ')', '*']\n",
      "lst_s_2.remove('*')_retention->['d', 'e', [1000, 1200, 1500], 'f', 'g', 'h', 99, ')', '*']\n",
      "list_n_2.sort()->[2, 3, 4, 6, 42, 95]\n"
     ]
    }
   ],
   "source": [
    "lst_s_2=list(map(chr,range(100,105)))\n",
    "print(lst_s_2)\n",
    "print(\"_\"*50)\n",
    "lst_s_2.append(99)\n",
    "print(\"lst_s_2.append(99)->{}\".format(lst_s_2))\n",
    "lst_s_2.append(list(range(50,80,5)))#append() 方法用于在列表末尾添加新的对象。\n",
    "print(\"lst_s_2.append(list(range(50,80,5)))->{}\".format(lst_s_2))\n",
    "lst_spechars=['*',')','*']\n",
    "lst_s_2.extend(lst_spechars)\n",
    "print(\"lst_s_2.extend(lst_spechars)->{}\".format(lst_s_2))\n",
    "print(\"lst_s_2.count('*')={}\".format(lst_s_2.count('*')))\n",
    "print(\"lst_s_2.index('e')={}\".format(lst_s_2.index('e')))\n",
    "lst_s_2.insert(2,[1000,1200,1500])\n",
    "print(\"lst_s_2.insert(2,[1000,1200,1500])->{}\".format(lst_s_2))\n",
    "print(\"lst_s_2.pop(7)_popup->{}\".format(lst_s_2.pop(7)))\n",
    "print(\"lst_s_2.pop(7)_retention->{}\".format(lst_s_2))\n",
    "lst_s_2.remove('*')\n",
    "print(\"lst_s_2.remove('*')_retention->{}\".format(lst_s_2))\n",
    "list_n_2=[2,42,6,95,4,3]\n",
    "list_n_2.sort()\n",
    "print(\"list_n_2.sort()->{}\".format(list_n_2))"
   ]
  },
  {
   "cell_type": "code",
   "execution_count": 18,
   "id": "0b647e2f-34d3-490f-98f1-6e6266e5be9f",
   "metadata": {},
   "outputs": [
    {
     "name": "stdout",
     "output_type": "stream",
     "text": [
      "tuple_1=2,3,5,->(2, 3, 5)\n",
      "3*(20*3,)->(60, 60, 60)\n",
      "tuple((5,8,9))->(5, 8, 9)\n",
      "tuple([5,8,9])->(5, 8, 9)\n"
     ]
    }
   ],
   "source": [
    "#tuple元组\n",
    "tuple_1=2,3,5,#tuple元组,不能修改，可以提取项值，组的语法为tuple=(value1,value2,value3,..)，用小括号括起，中间与列表一样由“，”号隔开。最后也需要点逗号。\n",
    "print(\"tuple_1=2,3,5,->{}\".format(tuple_1))\n",
    "print(\"3*(20*3,)->{}\".format(3*(20*3,)))\n",
    "print(\"tuple((5,8,9))->{}\".format(tuple((5,8,9)))) #用()\n",
    "print(\"tuple([5,8,9])->{}\".format(tuple([5,8,9]))) #用[]\n"
   ]
  },
  {
   "cell_type": "code",
   "execution_count": 19,
   "id": "899b5a4b-947e-4645-832e-a244d771c3af",
   "metadata": {},
   "outputs": [
    {
     "name": "stdout",
     "output_type": "stream",
     "text": [
      "items->[(0, [0, 1, 2, 3, 4]), (1, [[120, 142, 198]]), (2, 'python')]\n",
      "dic=dict(items)->{0: [0, 1, 2, 3, 4], 1: [[120, 142, 198]], 2: 'python'}\n",
      "dic[1]->[[120, 142, 198]]\n"
     ]
    }
   ],
   "source": [
    "#dict\n",
    "#语法结构为dictionary={ke0:value0,key1:value1,key2:value2,...}键和值可以是任何类型的数据，例如数字、字符串、元组，而每一组键/值并没有固定的顺序\n",
    "import random\n",
    "items=[(0,[i for i in range(5)]),(1,[random.sample(list(range(100,200,1)),3)]),(2,'python')] #[i for i in range(5)] 为列表推导式 list comprehension/derivation\n",
    "print(\"items->{}\".format(items))\n",
    "dic=dict(items)\n",
    "print(\"dic=dict(items)->{}\".format(dic))\n",
    "print(\"dic[1]->{}\".format(dic[1]))\n"
   ]
  },
  {
   "cell_type": "code",
   "execution_count": 20,
   "id": "8a6916af-0740-4d6f-b140-2f459ce16e4c",
   "metadata": {},
   "outputs": [
    {
     "name": "stdout",
     "output_type": "stream",
     "text": [
      "len(dic)->3\n",
      "dic[3]=(random.random(),random.uniform(200,300))->{0: [0, 1, 2, 3, 4], 1: [[120, 142, 198]], 2: 'python', 3: (0.4559668055856074, 251.32243913347287)}\n",
      "del dic[1]->{0: [0, 1, 2, 3, 4], 2: 'python', 3: (0.4559668055856074, 251.32243913347287)}\n",
      "3 in dic->True\n",
      "5 in dic->False\n",
      "dic.keys()->dict_keys([0, 2, 3])\n",
      "dic.values()->dict_values([[0, 1, 2, 3, 4], 'python', (0.4559668055856074, 251.32243913347287)])\n",
      "dic.items()->dict_items([(0, [0, 1, 2, 3, 4]), (2, 'python'), (3, (0.4559668055856074, 251.32243913347287))])\n",
      "__________________________________________________\n",
      "list(dic.keys())->[0, 2, 3]\n"
     ]
    }
   ],
   "source": [
    "print(\"len(dic)->{}\".format(len(dic)))#Python 字典(Dictionary) len() 函数计算字典元素个数，即键的总数。\n",
    "dic[3]=(random.random(),random.uniform(200,300))\n",
    "print(\"dic[3]=(random.random(),random.uniform(200,300))->{}\".format(dic))\n",
    "del dic[1]\n",
    "print(\"del dic[1]->{}\".format(dic))\n",
    "print(\"3 in dic->{}\".format(3 in dic))\n",
    "print(\"5 in dic->{}\".format(5 in dic))\n",
    "print(\"dic.keys()->{}\".format(dic.keys())) #应该放在字典的方法一节里\n",
    "print(\"dic.values()->{}\".format(dic.values()))\n",
    "print(\"dic.items()->{}\".format(dic.items()))\n",
    "print(\"_\"*50)\n",
    "print(\"list(dic.keys())->{}\".format(list(dic.keys())))\n"
   ]
  },
  {
   "cell_type": "code",
   "execution_count": 21,
   "id": "cf881a35-9027-42a4-a385-47129a2cfd66",
   "metadata": {},
   "outputs": [
    {
     "name": "stdout",
     "output_type": "stream",
     "text": [
      "0 (0, [0, 1, 2, 3, 4])\n",
      "1 (2, 'python')\n",
      "2 (3, (0.4559668055856074, 251.32243913347287))\n"
     ]
    }
   ],
   "source": [
    "for k,v in enumerate(dic.items()): #for循环在后文\n",
    "    print(k,v)\n"
   ]
  },
  {
   "cell_type": "code",
   "execution_count": 22,
   "id": "b6b48e51-60e1-41ce-b122-ed75f197e800",
   "metadata": {},
   "outputs": [
    {
     "name": "stdout",
     "output_type": "stream",
     "text": [
      "lst_A=[6, 9, 12, 15, 18],lst_B=[100, 115, 130, 145]\n",
      "dic_2={0: [6, 9, 12, 15, 18], 1: [100, 115, 130, 145]}\n",
      "__________________________________________________\n",
      "dic_assignment={0: [6, 9, 12, 15, 18], 1: [100, 115, 130, 145]}\n",
      "dic_2.clear()->{}\n",
      "dic_assignment={}\n",
      "dic_2[5]=list(range(1,9,2))->{5: [1, 3, 5, 7]}\n",
      "dic_copy=dic_2.copy()->{5: [1, 3, 5, 7]}\n",
      "dic_2[8]=[5,7]->{5: [1, 3, 5, 7], 8: [5, 7]}\n",
      "dic_copy={5: [1, 3, 5, 7]}\n",
      "dic_copy[5].remove(5)->{5: [1, 3, 7]}\n",
      "dic_copy.setdefault(6,[77,99])->{5: [1, 3, 7], 6: [77, 99]}\n",
      "dic_2.pop(5)->{8: [5, 7]}\n",
      "dic_update={8: [5, 7, 6, 3, 2], 9: [3, 2, 33, 55, 66]}\n",
      "dic_2.update(dic_update->{8: [5, 7, 6, 3, 2], 9: [3, 2, 33, 55, 66]}\n",
      "dic_2.get(9)->[3, 2, 33, 55, 66]\n",
      "dic_2.popitem()->{8: [5, 7, 6, 3, 2]}\n",
      "dic_3={}.fromkeys([0,1,2,3,4,'A'])->{0: None, 1: None, 2: None, 3: None, 4: None, 'A': None}\n"
     ]
    }
   ],
   "source": [
    "#字典的方法\n",
    "lst_A=list(range(6,20,3))\n",
    "lst_B=list(range(100,150,15))\n",
    "print(\"lst_A={},lst_B={}\".format(lst_A,lst_B))\n",
    "dic_2={0:lst_A,1:lst_B}\n",
    "print(\"dic_2={}\".format(dic_2))\n",
    "print(\"_\"*50)\n",
    "dic_assignment=dic_2\n",
    "print(\"dic_assignment={}\".format(dic_assignment))\n",
    "dic_2.clear()\n",
    "print(\"dic_2.clear()->{}\".format(dic_2))\n",
    "print(\"dic_assignment={}\".format(dic_assignment))\n",
    "dic_2[5]=list(range(1,9,2))\n",
    "print(\"dic_2[5]=list(range(1,9,2))->{}\".format(dic_2))\n",
    "dic_copy=dic_2.copy()\n",
    "print(\"dic_copy=dic_2.copy()->{}\".format(dic_copy))\n",
    "dic_2[8]=[5,7]\n",
    "print(\"dic_2[8]=[5,7]->{}\".format(dic_2))\n",
    "print(\"dic_copy={}\".format(dic_copy))\n",
    "dic_copy[5].remove(5)\n",
    "print(\"dic_copy[5].remove(5)->{}\".format(dic_copy))\n",
    "dic_copy.setdefault(6,[77,99]) #返回指定键的值，如果不存在该键，则字典增加新的键/值对\n",
    "print(\"dic_copy.setdefault(6,[77,99])->{}\".format(dic_copy))\n",
    "dic_2.pop(5) #移除指定键/值，并返回该值\n",
    "print(\"dic_2.pop(5)->{}\".format(dic_2))\n",
    "dic_update={8:[5,7,6,3,2],9:[3,2,33,55,66]}\n",
    "print(\"dic_update={}\".format(dic_update))\n",
    "dic_2.update(dic_update) #更新字典\n",
    "print(\"dic_2.update(dic_update->{}\".format(dic_2))\n",
    "print(\"dic_2.get(9)->{}\".format(dic_2.get(9)))\n",
    "dic_2.popitem() #随即弹出一对键/值，并在该字典中移除\n",
    "print(\"dic_2.popitem()->{}\".format(dic_2))\n",
    "\n",
    "dic_3={}.fromkeys([0,1,2,3,4,'A']) #给定键，建立值为空的字典\n",
    "print(\"dic_3={}\"+\".fromkeys([0,1,2,3,4,'A'])->{}\".format(dic_3)) #找下escape characters 脱字符\n"
   ]
  },
  {
   "cell_type": "code",
   "execution_count": 23,
   "id": "3a436bd8-7dd8-4772-8c95-ab3484e12d78",
   "metadata": {},
   "outputs": [
    {
     "name": "stdout",
     "output_type": "stream",
     "text": [
      "lst_A=[6, 9, 12, 15, 18],lst_B=[100, 115, 130, 145]\n",
      "dic_2={0: [6, 9, 12, 15, 18], 1: [100, 115, 130, 145]}\n",
      "__________________________________________________\n",
      "dic_assignment={0: [6, 9, 12, 15, 18], 1: [100, 115, 130, 145]}\n",
      "dic_2.clear()->{}\n",
      "dic_assignment={}\n",
      "dic_2[5]=list(range(1,9,2))->{5: [1, 3, 5, 7]}\n",
      "dic_copy=dic_2.copy()->{5: [1, 3, 5, 7]}\n",
      "dic_2[8]=[5,7]->{5: [1, 3, 5, 7], 8: [5, 7]}\n",
      "dic_copy={5: [1, 3, 5, 7]}\n",
      "dic_copy[5].remove(5)->{5: [1, 3, 7]}\n",
      "dic_copy.setdefault(6,[77,99])->{5: [1, 3, 7], 6: [77, 99]}\n",
      "dic_2.pop(5)->{8: [5, 7]}\n",
      "dic_update={8: [5, 7, 6, 3, 2], 9: [3, 2, 33, 55, 66]}\n",
      "dic_2.update(dic_update->{8: [5, 7, 6, 3, 2], 9: [3, 2, 33, 55, 66]}\n",
      "dic_2.get(9)->[3, 2, 33, 55, 66]\n",
      "dic_2.popitem()->{8: [5, 7, 6, 3, 2]}\n",
      "dic_3={}.fromkeys([0,1,2,3,4,'A'])->{0: None, 1: None, 2: None, 3: None, 4: None, 'A': None}\n"
     ]
    }
   ],
   "source": [
    "#字典的方法\n",
    "lst_A=list(range(6,20,3))\n",
    "lst_B=list(range(100,150,15))\n",
    "print(\"lst_A={},lst_B={}\".format(lst_A,lst_B))\n",
    "dic_2={0:lst_A,1:lst_B}\n",
    "print(\"dic_2={}\".format(dic_2))\n",
    "print(\"_\"*50)\n",
    "dic_assignment=dic_2\n",
    "print(\"dic_assignment={}\".format(dic_assignment))\n",
    "dic_2.clear()\n",
    "print(\"dic_2.clear()->{}\".format(dic_2))\n",
    "print(\"dic_assignment={}\".format(dic_assignment))\n",
    "dic_2[5]=list(range(1,9,2))\n",
    "print(\"dic_2[5]=list(range(1,9,2))->{}\".format(dic_2))\n",
    "dic_copy=dic_2.copy()\n",
    "print(\"dic_copy=dic_2.copy()->{}\".format(dic_copy))\n",
    "dic_2[8]=[5,7]\n",
    "print(\"dic_2[8]=[5,7]->{}\".format(dic_2))\n",
    "print(\"dic_copy={}\".format(dic_copy))\n",
    "dic_copy[5].remove(5)\n",
    "print(\"dic_copy[5].remove(5)->{}\".format(dic_copy))\n",
    "dic_copy.setdefault(6,[77,99]) #返回指定键的值，如果不存在该键，则字典增加新的键/值对\n",
    "print(\"dic_copy.setdefault(6,[77,99])->{}\".format(dic_copy))\n",
    "dic_2.pop(5) #移除指定键/值，并返回该值\n",
    "print(\"dic_2.pop(5)->{}\".format(dic_2))\n",
    "dic_update={8:[5,7,6,3,2],9:[3,2,33,55,66]}\n",
    "print(\"dic_update={}\".format(dic_update))\n",
    "dic_2.update(dic_update) #更新字典\n",
    "print(\"dic_2.update(dic_update->{}\".format(dic_2))\n",
    "print(\"dic_2.get(9)->{}\".format(dic_2.get(9)))\n",
    "dic_2.popitem() #随即弹出一对键/值，并在该字典中移除\n",
    "print(\"dic_2.popitem()->{}\".format(dic_2))\n",
    "\n",
    "dic_3={}.fromkeys([0,1,2,3,4,'A']) #给定键，建立值为空的字典\n",
    "print(\"dic_3={}\"+\".fromkeys([0,1,2,3,4,'A'])->{}\".format(dic_3)) #找下escape characters 脱字符\n"
   ]
  },
  {
   "cell_type": "code",
   "execution_count": 24,
   "id": "8319b00c-de78-4670-bc05-8f73604049c1",
   "metadata": {},
   "outputs": [
    {
     "name": "stdout",
     "output_type": "stream",
     "text": [
      "lst_s_3=list(\"Hello Python!\")->['H', 'e', 'l', 'l', 'o', ' ', 'P', 'y', 't', 'h', 'o', 'n', '!']\n",
      "\"Hellow\"+\" Python!\"->Hellow Python!\n",
      "\"+\".join(str(123456))->1+2+3+4+5+6\n",
      "len(\"Hellow Python!\")->14\n",
      "coordinates.split(\",\")->['120.132007', '30.300508', '9.7']\n",
      "eval(coordinates)->(120.132007, 30.300508, 9.7)\n",
      "\"Hello Python!\".lower()->hello python!\n",
      "\"Hello Python!\".upper()->HELLO PYTHON!\n",
      "\"Hello Python!\"[6:]->Python!\n",
      "\"    Hello Python!    \".strip()->Hello Python!\n",
      "\"Hello Python!\".replace(\"Python\",\"Grasshopper\")->Hello Grasshopper!\n",
      "hello_lst.sort()>[' ', '!', 'H', 'P', 'e', 'h', 'l', 'l', 'n', 'o', 'o', 't', 'y']\n",
      "\"Hello Python!\".find(\"Py\")->6\n"
     ]
    }
   ],
   "source": [
    "#string\n",
    "lst_s_3=list(\"Hello Python!\")\n",
    "print(\"lst_s_3=list(\\\"Hello Python!\\\")->{}\".format(lst_s_3)) #\"\\\" escape character\n",
    "print(\"\\\"Hellow\\\"+\\\" Python!\\\"->{}\".format(\"Hellow\"+\" Python!\"))\n",
    "print(\"\\\"+\\\".join(str(123456))->{}\".format(\"+\".join(str(123456))))\n",
    "print(\"len(\\\"Hellow Python!\\\")->{}\".format(len(\"Hellow Python!\")))\n",
    "coordinates=\"120.132007,30.300508,9.7\"\n",
    "print(\"coordinates.split(\\\",\\\")->{}\".format(coordinates.split(\",\")))\n",
    "print(\"eval(coordinates)->{}\".format(eval(coordinates))) #通常用eval()方法将字符串，转换为对应数值形式；\n",
    "print(\"\\\"Hello Python!\\\".lower()->{}\".format(\"Hello Python!\".lower()))\n",
    "print(\"\\\"Hello Python!\\\".upper()->{}\".format(\"Hello Python!\".upper()))\n",
    "print(\"\\\"Hello Python!\\\"[6:]->{}\".format(\"Hello Python!\"[6:]))\n",
    "print(\"\\\"    Hello Python!    \\\".strip()->{}\".format(\"    Hello Python!    \".strip()))\n",
    "print(\"\\\"Hello Python!\\\".replace(\\\"Python\\\",\\\"Grasshopper\\\")->{}\".format(\"Hello Python!\".replace(\"Python\",\"Grasshopper\")))\n",
    "hello_lst=list(\"Hello Python!\")\n",
    "hello_lst.sort()\n",
    "print(\"hello_lst.sort()>{}\".format(hello_lst))\n",
    "print(\"\\\"Hello Python!\\\".find(\\\"Py\\\")->{}\".format(\"Hello Python!\".find(\"Py\")))\n"
   ]
  },
  {
   "cell_type": "code",
   "execution_count": 25,
   "id": "8e0bb12a-a23b-4522-bd8f-f5b52133bfa6",
   "metadata": {},
   "outputs": [
    {
     "name": "stdout",
     "output_type": "stream",
     "text": [
      "new_str=format_str % values->Hello,Python and Grasshopper!\n",
      "new_str_2=format_str_2 % (pi,3.1415926)->Pi with three decimals:3.142,and enter a value with percent sign:3.14 %\n"
     ]
    }
   ],
   "source": [
    "#字符串格式化\n",
    "format_str=\"Hello,%s and %s!\"\n",
    "values=(\"Python\",\"Grasshopper\")\n",
    "new_str=format_str % values\n",
    "print(\"new_str=format_str % values->{}\".format(new_str))\n",
    "\n",
    "format_str_2=\"Pi with three decimals:%.3f,and enter a value with percent sign:%.2f %%\" #如果字符串里包含实际的%，则通过%%即两个百分号进行转义\n",
    "\n",
    "from math import pi\n",
    "new_str_2=format_str_2 % (pi,3.1415926)\n",
    "print(\"new_str_2=format_str_2 % (pi,3.1415926)->{}\".format(new_str_2))\n"
   ]
  },
  {
   "cell_type": "code",
   "execution_count": 26,
   "id": "ba2599bd-d153-4351-897a-9c80b4c15222",
   "metadata": {},
   "outputs": [
    {
     "name": "stdout",
     "output_type": "stream",
     "text": [
      "  3.141593,      3.14,3.14,Hello,Hello,52,34,3.141593\n"
     ]
    }
   ],
   "source": [
    "format_str_3=\"%10f,%10.2f,%.2f,%.5s,%.*s,%d,%x,%f\"\n",
    "new_str_3=format_str_3%(pi,pi,pi,\"Hello Python!\",5,\"Hello Python!\",52,52,pi)\n",
    "print(\"{}\".format(new_str_3))\n"
   ]
  },
  {
   "cell_type": "code",
   "execution_count": 27,
   "id": "fb2626b5-19d1-4c91-8e62-ea62df14eb49",
   "metadata": {},
   "outputs": [
    {
     "name": "stdout",
     "output_type": "stream",
     "text": [
      "s_1=s_template_1.substitute(x=\"Python\")->Python,glorious,Python!\n",
      "s_2=s_template_2.substitute(x=\"py\")->python is amazing!\n",
      "substitute_dict={'x': 'Python', 'y': 'Grasshopper'}\n",
      "s_3=s_template_3.substitute(substitute_dict)->Python and Grasshopper are both amazing!\n"
     ]
    }
   ],
   "source": [
    "#Template()函数-模板字符串+$+st.substitute()\n",
    "from string import Template\n",
    "s_template_1=Template(\"$x,glorious,$x!\")\n",
    "s_1=s_template_1.substitute(x=\"Python\")\n",
    "print(\"s_1=s_template_1.substitute(x=\\\"Python\\\")->{}\".format(s_1))\n",
    "s_template_2=Template(\"${x}thon is amazing!\")\n",
    "s_2=s_template_2.substitute(x=\"py\")\n",
    "print(\"s_2=s_template_2.substitute(x=\\\"py\\\")->{}\".format(s_2))\n",
    "s_template_3=Template(\"$x and $y are both amazing!\")\n",
    "substitute_dict=dict([('x','Python'),('y','Grasshopper')])\n",
    "print(\"substitute_dict={}\".format(substitute_dict))\n",
    "s_3=s_template_3.substitute(substitute_dict)\n",
    "print(\"s_3=s_template_3.substitute(substitute_dict)->{}\".format(s_3))\n"
   ]
  },
  {
   "cell_type": "code",
   "execution_count": 28,
   "id": "4311f859-5050-46df-b59e-68f865a17777",
   "metadata": {},
   "outputs": [
    {
     "name": "stdout",
     "output_type": "stream",
     "text": [
      "re.findall(pattern_1,text)->['Python']\n",
      "re.findall(pattern_2,text)->[]\n"
     ]
    }
   ],
   "source": [
    "import re\n",
    "pattern_1='Python'\n",
    "text=\"Hello Python!\"\n",
    "print(\"re.findall(pattern_1,text)->{}\".format(re.findall(pattern_1,text)))\n",
    "pattern_2='python'\n",
    "print(\"re.findall(pattern_2,text)->{}\".format(re.findall(pattern_2,text)))\n",
    "#正则表达式"
   ]
  },
  {
   "cell_type": "code",
   "execution_count": 29,
   "id": "f1aba697-7ecf-4f08-b916-4949427d648b",
   "metadata": {},
   "outputs": [
    {
     "name": "stdout",
     "output_type": "stream",
     "text": [
      "re.findall('.ython','Hello Python!')->['Python']\n",
      "re.findall('.ython','Hello gython!')->['gython']\n",
      "re.findall('.ython','Hello gPython!')->['Python']\n",
      "re.findall('.ython','Hello Pthon!')->[]\n"
     ]
    }
   ],
   "source": [
    "#(.)点号\n",
    "print(\"re.findall('.ython','Hello Python!')->{}\".format(re.findall('.ython','Hello Python!')))\n",
    "print(\"re.findall('.ython','Hello gython!')->{}\".format(re.findall('.ython','Hello gython!')))\n",
    "print(\"re.findall('.ython','Hello gPython!')->{}\".format(re.findall('.ython','Hello gPython!')))\n",
    "print(\"re.findall('.ython','Hello Pthon!')->{}\".format(re.findall('.ython','Hello Pthon!')))\n"
   ]
  },
  {
   "cell_type": "code",
   "execution_count": 30,
   "id": "eefe215e-868a-491c-8aa8-2748d7707b7b",
   "metadata": {},
   "outputs": [
    {
     "name": "stdout",
     "output_type": "stream",
     "text": [
      "re.findall(r'w?cadesign\\.cn,w+\\.cadesign\\.cn','cadesign.cn,www.cadesign.cn')->['cadesign.cn,www.cadesign.cn']\n",
      "re.findall(r'w{2}\\.cadesign\\.cn','www.cadesign.cn')->['ww.cadesign.cn']\n",
      "re.findall(r'w{1,3}\\.cadesign\\.cn','www.cadesign.cn')->['www.cadesign.cn']\n"
     ]
    }
   ],
   "source": [
    "#* + ？ {m,n}与r’string’\n",
    "print(\"re.findall(r'w?cadesign\\.cn,w+\\.cadesign\\.cn','cadesign.cn,www.cadesign.cn')->{}\".format(re.findall(r'w?cadesign\\.cn,w+\\.cadesign\\.cn','cadesign.cn,www.cadesign.cn')))\n",
    "print(\"re.findall(r'w{2}\"+\"\\.cadesign\\.cn','www.cadesign.cn')->{}\".format(re.findall(r'w{2}\\.cadesign\\.cn','www.cadesign.cn')))\n",
    "print(\"re.findall(r'w{1,3}\"+\"\\.cadesign\\.cn','www.cadesign.cn')->{}\".format(re.findall(r'w{1,3}\\.cadesign\\.cn','www.cadesign.cn')))\n"
   ]
  },
  {
   "cell_type": "code",
   "execution_count": 31,
   "id": "2b2499fe-bc05-4269-b309-ac34b35de689",
   "metadata": {},
   "outputs": [
    {
     "name": "stdout",
     "output_type": "stream",
     "text": [
      "re.findall('[Py]*thon!','Hello Python!')->['Python!']\n",
      "re.findall('[Py]*thon!','Hello Pthon!')->['Pthon!']\n",
      "re.findall('[Py]*thon!','Hello ython!')->['ython!']\n",
      "re.findall('[Py]*thon!','Hello ython!')->['thon!']\n"
     ]
    }
   ],
   "source": [
    "#[] (^)\n",
    "print(\"re.findall('[Py]*thon!','Hello Python!')->{}\".format(re.findall('[Py]*thon!','Hello Python!')))\n",
    "print(\"re.findall('[Py]*thon!','Hello Pthon!')->{}\".format(re.findall('[Py]*thon!','Hello Pthon!')))\n",
    "print(\"re.findall('[Py]*thon!','Hello ython!')->{}\".format(re.findall('[Py]*thon!','Hello ython!')))\n",
    "print(\"re.findall('[Py]*thon!','Hello ython!')->{}\".format(re.findall('[Py]*thon!','Hello thon!')))\n"
   ]
  },
  {
   "cell_type": "code",
   "execution_count": 32,
   "id": "1a169c76-7b52-4838-9c15-390f340dfd06",
   "metadata": {},
   "outputs": [
    {
     "name": "stdout",
     "output_type": "stream",
     "text": [
      "re.findall('python|grasshopper','python')->['python']\n",
      "re.findall('python|grasshopper','grasshopper')->['grasshopper']\n",
      "re.findall('python|grasshopper','grasshopper and python')->['grasshopper', 'python']\n"
     ]
    }
   ],
   "source": [
    "#(|)管道符号\n",
    "print(\"re.findall('python|grasshopper','python')->{}\".format(re.findall('python|grasshopper','python')))\n",
    "print(\"re.findall('python|grasshopper','grasshopper')->{}\".format(re.findall('python|grasshopper','grasshopper')))\n",
    "print(\"re.findall('python|grasshopper','grasshopper and python')->{}\".format(re.findall('python|grasshopper','grasshopper and python')))\n"
   ]
  },
  {
   "cell_type": "code",
   "execution_count": 33,
   "id": "d5235e76-dffb-4d8e-ba31-5cbc99f812d0",
   "metadata": {
    "jupyter": {
     "source_hidden": true
    },
    "tags": []
   },
   "outputs": [
    {
     "name": "stdout",
     "output_type": "stream",
     "text": [
      "re.findall('\\d','number=10')->['1', '0']\n",
      "re.findall('\\D','number=10')->['n', 'u', 'm', 'b', 'e', 'r', '=']\n",
      "re.findall('[^0-9]','number=10')->['n', 'u', 'm', 'b', 'e', 'r', '=']\n"
     ]
    }
   ],
   "source": [
    "#\\d \\D\n",
    "print(\"re.findall('\\d','number=10')->{}\".format(re.findall('\\d','number=10')))\n",
    "print(\"re.findall('\\D','number=10')->{}\".format(re.findall('\\D','number=10')))\n",
    "print(\"re.findall('[^0-9]','number=10')->{}\".format(re.findall('[^0-9]','number=10')))\n"
   ]
  },
  {
   "cell_type": "code",
   "execution_count": 34,
   "id": "026db6ca-9063-4d1e-8736-b95acfe90ec2",
   "metadata": {},
   "outputs": [
    {
     "name": "stdout",
     "output_type": "stream",
     "text": [
      "re.findall('[a-z]','python')->['p', 'y', 't', 'h', 'o', 'n']\n",
      "re.search('[a-z]+','python')-><re.Match object; span=(0, 6), match='python'>\n",
      "re.search('[a-z]+','python')->found it!\n",
      "re.split(',','Hello,,,,,,Python!')->['Hello', '', '', '', '', '', 'Python!']\n",
      "re.sub('Python','Grasshopper','Hello Python!')->Hello Grasshopper!\n",
      "pattern_compile.findall('Hello,,,,,,Python!')->['Python']\n",
      "re.match('p','python')->found it!\n"
     ]
    }
   ],
   "source": [
    "#re模块的方法\n",
    "print(\"re.findall('[a-z]','python')->{}\".format(re.findall('[a-z]','python-3.0')))\n",
    "print(\"re.search('[a-z]+','python')->{}\".format(re.search('[a-z]+','python')))\n",
    "if re.search('[a-z]+','python'):\n",
    "    print(\"re.search('[a-z]+','python')->found it!\")\n",
    "print(\"re.split(',','Hello,,,,,,Python!')->{}\".format(re.split(',','Hello,,,,,,Python!')))\n",
    "print(\"re.sub('Python','Grasshopper','Hello Python!')->{}\".format(re.sub('Python','Grasshopper','Hello Python!')))\n",
    "\n",
    "pattern_compile=re.compile('Python')\n",
    "print(\"pattern_compile.findall('Hello,,,,,,Python!')->{}\".format(pattern_compile.findall('Hello,,,,,,Python!')))\n",
    "\n",
    "if re.match('p','python'):\n",
    "    print(\"re.match('p','python')->found it!\")\n"
   ]
  },
  {
   "cell_type": "code",
   "execution_count": 35,
   "id": "fba8bcf5-0152-4d12-9013-dcf4c53cda6b",
   "metadata": {},
   "outputs": [
    {
     "name": "stdout",
     "output_type": "stream",
     "text": [
      "'python'.find('python')->0\n",
      "'python'.find('thon')->2\n",
      "'python'.find('a')->-1\n",
      "'p' in 'python'->True\n"
     ]
    }
   ],
   "source": [
    "print(\"\\'python\\'.find(\\'python\\')->{}\".format('python'.find('python')))\n",
    "print(\"\\'python\\'.find(\\'thon\\')->{}\".format('python'.find('thon')))\n",
    "print(\"\\'python\\'.find(\\'a\\')->{}\".format('python'.find('a')))\n",
    "print(\"\\'p\\' in \\'python\\'->{}\".format('p' in 'python'))\n"
   ]
  },
  {
   "cell_type": "code",
   "execution_count": 36,
   "id": "f065bdc7-7827-48e4-84ef-d0b4a4035a92",
   "metadata": {},
   "outputs": [
    {
     "name": "stdout",
     "output_type": "stream",
     "text": [
      "'Hello,,,,,,Python!'.split(',')->['Hello', '', '', '', '', '', 'Python!']\n",
      "'Hello Python!'.replace('Python','Grasshopper')->Hello Grasshopper!\n"
     ]
    }
   ],
   "source": [
    "print(\"\\'Hello,,,,,,Python!\\'.split(',')->{}\".format( 'Hello,,,,,,Python!'.split(',')))\n",
    "print(\"\\'Hello Python!\\'.replace(\\'Python\\',\\'Grasshopper\\')->{}\".format( 'Hello Python!'.replace('Python','Grasshopper')))\n"
   ]
  },
  {
   "cell_type": "code",
   "execution_count": 38,
   "id": "c7fe5a2e-659b-4cc0-909a-136329f1d887",
   "metadata": {},
   "outputs": [
    {
     "name": "stdout",
     "output_type": "stream",
     "text": [
      "match_1.gourp(1)->python\n",
      "match_1.start(1)->4\n",
      "match_1.end(1)->10\n",
      "match_1.span(1)->(4, 10)\n",
      "match_2.group(1)->python\n",
      "match_2.group(2)->org\n"
     ]
    }
   ],
   "source": [
    "#匹配对象和组\n",
    "#通过m.group()方法返回组，m.start()方法获取组的开始索引值，m.end()则获取结束位置索引值，m.span()返回区间值。\n",
    "match_1=re.match(r'www\\.(.*)\\..{3}','www.python.org')\n",
    "print(\"match_1.gourp(1)->{}\".format(match_1.group(1)))\n",
    "print(\"match_1.start(1)->{}\".format(match_1.start(1)))\n",
    "print(\"match_1.end(1)->{}\".format(match_1.end(1)))\n",
    "print(\"match_1.span(1)->{}\".format(match_1.span(1)))\n",
    "match_2=re.match(r'www\\.(.*)\\.(.{3})','www.python.org')\n",
    "print(\"match_2.group(1)->{}\".format(match_2.group(1)))\n",
    "print(\"match_2.group(2)->{}\".format(match_2.group(2)))\n"
   ]
  },
  {
   "cell_type": "code",
   "execution_count": 39,
   "id": "f58a16d5-c9a5-4e2c-92b9-1124fe2323db",
   "metadata": {},
   "outputs": [
    {
     "name": "stdout",
     "output_type": "stream",
     "text": [
      "lst_1=[29, 31, 33, 35]\n",
      "__________________________________________________\n",
      "for i in lst_1:\n",
      "29\n",
      "31\n",
      "33\n",
      "35\n",
      "for i in range(len(lst_1)):\n",
      "idx=0,val=29\n",
      "idx=1,val=31\n",
      "idx=2,val=33\n",
      "idx=3,val=35\n",
      "++++++++++++++++++++++++++++++++++++++++++++++++++\n",
      "dic_4={'a': 2, 'b': 3, 'c': 6, 'd': 0}\n",
      "__________________________________________________\n",
      "for k in dic_4:\n",
      "a\n",
      "b\n",
      "c\n",
      "d\n",
      "for k,v in dic_4.items():\n",
      "key=a,val=2\n",
      "key=b,val=3\n",
      "key=c,val=6\n",
      "key=d,val=0\n"
     ]
    }
   ],
   "source": [
    "#for循环\n",
    "lst_1=list(range(29,37,2))\n",
    "print(\"lst_1={}\".format(lst_1))\n",
    "print(\"_\"*50)\n",
    "print(\"for i in lst_1:\")\n",
    "for i in lst_1:\n",
    "    print(i)\n",
    "print(\"for i in range(len(lst_1)):\")\n",
    "for i in range(len(lst_1)):\n",
    "    print(\"idx={},val={}\".format(i,lst_1[i]))\n",
    "print(\"+\"*50)   \n",
    "dic_4=dict(a=2,b=3,c=6,d=0)\n",
    "print(\"dic_4={}\".format(dic_4))\n",
    "print(\"_\"*50)\n",
    "print(\"for k in dic_4:\")\n",
    "for k in dic_4:\n",
    "    print(k)\n",
    "print(\"for k,v in dic_4.items():\")\n",
    "for k,v in dic_4.items():\n",
    "    print(\"key={},val={}\".format(k,v))\n"
   ]
  },
  {
   "cell_type": "code",
   "execution_count": 40,
   "id": "ff41c9d6-cc14-46e8-b8b5-1a7d7203a872",
   "metadata": {},
   "outputs": [
    {
     "name": "stdout",
     "output_type": "stream",
     "text": [
      "x=2\n",
      "x=12\n",
      "x=22\n",
      "x=32\n",
      "x=42\n",
      "x=52\n",
      "x=62\n",
      "x=72\n",
      "x=82\n",
      "x=92\n"
     ]
    }
   ],
   "source": [
    "#while\n",
    "x=2\n",
    "while x<=100:\n",
    "    print(\"x={}\".format(x))\n",
    "    x+=10 #增量赋值; x*=2     \n"
   ]
  },
  {
   "cell_type": "code",
   "execution_count": 41,
   "id": "48b676ee-2cfc-4585-9590-55fe9e72c783",
   "metadata": {},
   "outputs": [
    {
     "name": "stdout",
     "output_type": "stream",
     "text": [
      "x=1\n",
      "x=11\n",
      "x=21\n",
      "x=31\n",
      "x=41\n",
      "sys.maxsize=9223372036854775807\n",
      "i=0\n",
      "i=1\n",
      "i=2\n",
      "i=3\n",
      "i=4\n",
      "i=5\n",
      "i=6\n",
      "i=7\n",
      "i=8\n",
      "i=9\n",
      "i=10\n",
      "i=11\n",
      "i=12\n",
      "i=13\n",
      "i=14\n",
      "i=15\n",
      "i=16\n",
      "i=17\n",
      "i=18\n",
      "i=19\n",
      "i=20\n"
     ]
    }
   ],
   "source": [
    "x=1\n",
    "while x<=100:\n",
    "    print(\"x={}\".format(x))\n",
    "    x+=10 \n",
    "    if x>=50:break    \n",
    "    \n",
    "import sys\n",
    "print(\"sys.maxsize={}\".format(sys.maxsize))\n",
    "for i in range(sys.maxsize):\n",
    "    print(\"i={}\".format(i))  #?\n",
    "    i+=10\n",
    "    if i>=30:break\n"
   ]
  },
  {
   "cell_type": "code",
   "execution_count": 42,
   "id": "8f6e8b9f-4a56-4a85-b03d-60795b4be2af",
   "metadata": {},
   "outputs": [
    {
     "ename": "FileNotFoundError",
     "evalue": "[Errno 2] No such file or directory: './data/elevation.txt'",
     "output_type": "error",
     "traceback": [
      "\u001b[1;31m---------------------------------------------------------------------------\u001b[0m",
      "\u001b[1;31mFileNotFoundError\u001b[0m                         Traceback (most recent call last)",
      "\u001b[1;32m<ipython-input-42-af066ed9c266>\u001b[0m in \u001b[0;36m<module>\u001b[1;34m\u001b[0m\n\u001b[0;32m      1\u001b[0m \u001b[0mtopography_fp\u001b[0m\u001b[1;33m=\u001b[0m\u001b[1;34m'./data/elevation.txt'\u001b[0m \u001b[1;31m#在处理GIS时，更多的是使用GeoPandas等处理地理信息的库;另，大数据的存储读取通常用Numpy,(Geo)Pandas提供的方法，以及HDF5(binary data format)。\u001b[0m\u001b[1;33m\u001b[0m\u001b[1;33m\u001b[0m\u001b[0m\n\u001b[1;32m----> 2\u001b[1;33m \u001b[0mf\u001b[0m\u001b[1;33m=\u001b[0m\u001b[0mopen\u001b[0m\u001b[1;33m(\u001b[0m\u001b[0mtopography_fp\u001b[0m\u001b[1;33m,\u001b[0m\u001b[1;34m'r'\u001b[0m\u001b[1;33m)\u001b[0m\u001b[1;33m\u001b[0m\u001b[1;33m\u001b[0m\u001b[0m\n\u001b[0m\u001b[0;32m      3\u001b[0m \u001b[0melevation_dat\u001b[0m\u001b[1;33m=\u001b[0m\u001b[1;33m[\u001b[0m\u001b[1;33m]\u001b[0m\u001b[1;33m\u001b[0m\u001b[1;33m\u001b[0m\u001b[0m\n\u001b[0;32m      4\u001b[0m \u001b[1;32mwhile\u001b[0m \u001b[1;32mTrue\u001b[0m\u001b[1;33m:\u001b[0m\u001b[1;33m\u001b[0m\u001b[1;33m\u001b[0m\u001b[0m\n\u001b[0;32m      5\u001b[0m     \u001b[0mline\u001b[0m\u001b[1;33m=\u001b[0m\u001b[0mf\u001b[0m\u001b[1;33m.\u001b[0m\u001b[0mreadline\u001b[0m\u001b[1;33m(\u001b[0m\u001b[1;33m)\u001b[0m\u001b[1;33m\u001b[0m\u001b[1;33m\u001b[0m\u001b[0m\n",
      "\u001b[1;31mFileNotFoundError\u001b[0m: [Errno 2] No such file or directory: './data/elevation.txt'"
     ]
    }
   ],
   "source": [
    "topography_fp='./data/elevation.txt' #在处理GIS时，更多的是使用GeoPandas等处理地理信息的库;另，大数据的存储读取通常用Numpy,(Geo)Pandas提供的方法，以及HDF5(binary data format)。\n",
    "f=open(topography_fp,'r')\n",
    "elevation_dat=[]\n",
    "while True:\n",
    "    line=f.readline()\n",
    "    elevation_dat.append(line)\n",
    "    if not line:break\n",
    "f.close()\n",
    "print(\"elevation_dat[:10]={}\".format(elevation_dat[:10]))\n",
    "#geopandas未安装"
   ]
  },
  {
   "cell_type": "code",
   "execution_count": 44,
   "id": "94447e43-738d-4d50-af7d-29a7196647b7",
   "metadata": {},
   "outputs": [
    {
     "name": "stdout",
     "output_type": "stream",
     "text": [
      "zip_lst=zip(lst_a,lst_b)-><zip object at 0x000001C174153CC0>\n",
      "dict(zip_lst)->{0: 'point_a', 1: 'point_b', 2: 'point_c', 3: 'point_d'}\n",
      "0 point_a\n",
      "1 point_b\n",
      "2 point_c\n",
      "3 point_d\n",
      "a=(0, 1, 2, 3),b=('point_a', 'point_b', 'point_c', 'point_d')\n"
     ]
    }
   ],
   "source": [
    "#并行迭代\n",
    "lst_a=[0,1,2,3]\n",
    "lst_b=['point_a','point_b','point_c','point_d']\n",
    "zip_lst=zip(lst_a,lst_b) #The zip() function takes iterables (can be zero or more), aggregates them in a tuple, and returns it.\n",
    "print(\"zip_lst=zip(lst_a,lst_b)->{}\".format(zip_lst))\n",
    "print(\"dict(zip_lst)->{}\".format(dict(zip_lst)))\n",
    "\n",
    "zip_lst=zip(lst_a,lst_b) #迭代对象临时存储，读取完后为空\n",
    "for a,b in zip_lst:\n",
    "    print(a,b)\n",
    "    \n",
    "zip_lst=zip(lst_a,lst_b)\n",
    "a,b=zip(*zip_lst)\n",
    "print(\"a={},b={}\".format(a,b))\n",
    "\n"
   ]
  },
  {
   "cell_type": "code",
   "execution_count": 45,
   "id": "ac5acad8-6ca0-4dd2-833b-af49472791bb",
   "metadata": {},
   "outputs": [
    {
     "name": "stdout",
     "output_type": "stream",
     "text": [
      "dic_4={0: 'point_a', 1: 'point_b', 2: 'point_c', 3: 'point_d'}\n",
      "dict((i,v) for i,v in enumerate(lst_c))->{0: 'point_a', 1: 'point_b', 2: 'point_c', 3: 'point_d'}\n",
      "__________________________________________________\n",
      "0:0,point_a\n",
      "1:1,point_b\n",
      "2:2,point_c\n",
      "3:3,point_d\n"
     ]
    }
   ],
   "source": [
    "#编号迭代\n",
    "lst_c=['point_a','point_b','point_c','point_d']\n",
    "dic_4={}\n",
    "for idx,value in enumerate(lst_c):\n",
    "    dic_4[idx]=value\n",
    "print(\"dic_4={}\".format(dic_4))\n",
    "print(\"dict((i,v) for i,v in enumerate(lst_c))->{}\".format(dict((i,v) for i,v in enumerate(lst_c)))) #list comprehension\n",
    "print(\"_\"*50)\n",
    "for i,(a,b) in enumerate(zip(lst_a,lst_b)):\n",
    "    print('%d:%s,%s'%(i,a,b))\n"
   ]
  },
  {
   "cell_type": "code",
   "execution_count": 46,
   "id": "93adfcc2-285f-4b42-8382-cd3f50a81fc2",
   "metadata": {},
   "outputs": [
    {
     "name": "stdout",
     "output_type": "stream",
     "text": [
      "[x*x for x in range(3,37,5) if x%2==0]->[64, 324, 784]\n",
      "[(x,y) for x in range(3)for y in range(2)]->[(0, 0), (0, 1), (1, 0), (1, 1), (2, 0), (2, 1)]\n",
      "[(x,y) for x,y in zip(range(3),range(2))]->[(0, 0), (1, 1)]\n",
      "[[a for a in range(1,10,3)],2,3,[b for b in range(60,100,7)],[[c for c in range(1000,2000,120)],3,9]]->[[1, 4, 7], 2, 3, [60, 67, 74, 81, 88, 95], [[1000, 1120, 1240, 1360, 1480, 1600, 1720, 1840, 1960], 3, 9]]\n",
      "flatten_lst(nested_list)->[1, 4, 7, 2, 3, 60, 67, 74, 81, 88, 95, 1000, 1120, 1240, 1360, 1480, 1600, 1720, 1840, 1960, 3, 9]\n"
     ]
    }
   ],
   "source": [
    "#list comprehension(列表推导式)\n",
    "print(\"[x*x for x in range(3,37,5) if x%2==0]->{}\".format([x*x for x in range(3,37,5) if x%2==0]))\n",
    "print(\"[(x,y) for x in range(3)for y in range(2)]->{}\".format([(x,y) for x in range(3)for y in range(2)]))\n",
    "print(\"[(x,y) for x,y in zip(range(3),range(2))]->{}\".format([(x,y) for x,y in zip(range(3),range(2))]))\n",
    "nested_list=[[a for a in range(1,10,3)],2,3,[b for b in range(60,100,7)],[[c for c in range(1000,2000,120)],3,9]]\n",
    "print(\"[[a for a in range(1,10,3)],2,3,[b for b in range(60,100,7)],[[c for c in range(1000,2000,120)],3,9]]->{}\".format(nested_list)) #嵌套列表推导式\n",
    "\n",
    "flatten_lst=lambda lst: [m for n_lst in lst for m in flatten_lst(n_lst)] if type(lst) is list else [lst] #展平列表常用，可以放置到单独的.py文件中调用。lambda函数后文阐述\n",
    "print(\"flatten_lst(nested_list)->{}\".format(flatten_lst(nested_list)))\n",
    "\n"
   ]
  },
  {
   "cell_type": "code",
   "execution_count": 50,
   "id": "191de966-cd8a-4d6d-83fe-c1abe648b4a7",
   "metadata": {},
   "outputs": [
    {
     "name": "stdout",
     "output_type": "stream",
     "text": [
      "Positive and larger than or equal to 10.\n"
     ]
    }
   ],
   "source": [
    "x=10\n",
    "if x<0:\n",
    "    print('It is negative.')\n",
    "elif x==0:\n",
    "    print('Equal to zero.')\n",
    "elif 0<x<10:\n",
    "    print('Positive but smaller than 10')\n",
    "else:\n",
    "    print('Positive and larger than or equal to 10.')\n"
   ]
  },
  {
   "cell_type": "code",
   "execution_count": 51,
   "id": "d2404804-d8f1-4c24-8d4f-1ca79a159ced",
   "metadata": {},
   "outputs": [
    {
     "name": "stdout",
     "output_type": "stream",
     "text": [
      "x==y->True\n",
      "x is y->True\n",
      "x==z->True\n",
      "x is z->False\n",
      "x is not y->False\n",
      "x is not z->True\n",
      "id_x:1930388675904;id_y:1930388675904;id_z:1930388675712\n",
      "x=[3, 6],y=[3, 6],z=[3, 6, 9] after del x[2]\n"
     ]
    }
   ],
   "source": [
    "x=y=[3,6,9]\n",
    "z=[3,6,9]\n",
    "print(\"x==y->{}\".format(x==y))\n",
    "print(\"x is y->{}\".format(x is y))\n",
    "print(\"x==z->{}\".format(x==z))\n",
    "print(\"x is z->{}\".format(x is z))\n",
    "print(\"x is not y->{}\".format(x is not y))\n",
    "print(\"x is not z->{}\".format(x is not z))\n",
    "print(\"id_x:{};id_y:{};id_z:{}\".format(id(x),id(y),id(z))) #Memory Location\n",
    "\n",
    "del x[2]\n",
    "print(\"x={},y={},z={} after del x[2]\".format(x,y,z))\n"
   ]
  },
  {
   "cell_type": "code",
   "execution_count": 52,
   "id": "2fd44e78-6f68-4f30-84fc-fd048845e0c0",
   "metadata": {},
   "outputs": [
    {
     "name": "stdout",
     "output_type": "stream",
     "text": [
      "3 in x->True\n",
      "0 in x->False\n",
      "3 not in x->False\n",
      "0 not in x->True\n"
     ]
    }
   ],
   "source": [
    "x=[3,6,9]\n",
    "print(\"3 in x->{}\".format(3 in x))\n",
    "print(\"0 in x->{}\".format(0 in x))\n",
    "print(\"3 not in x->{}\".format(3 not in x))\n",
    "print(\"0 not in x->{}\".format(0 not in x))\n"
   ]
  },
  {
   "cell_type": "code",
   "execution_count": 53,
   "id": "644bcfe0-9d82-43de-af6b-646d255c9cc0",
   "metadata": {},
   "outputs": [
    {
     "name": "stdout",
     "output_type": "stream",
     "text": [
      "a<c<b kidding!!!\n"
     ]
    }
   ],
   "source": [
    "#布尔运算符\n",
    "a,b,c=0,10,15\n",
    "if c>a and c<b:\n",
    "    print('a<c<b')\n",
    "else: print('a<c<b kidding!!!')"
   ]
  },
  {
   "cell_type": "code",
   "execution_count": 56,
   "id": "b0503999-9a6a-4146-9bdb-8f2afec6ad43",
   "metadata": {},
   "outputs": [
    {
     "name": "stdout",
     "output_type": "stream",
     "text": [
      "simple_func(3,7)->16\n",
      "simple_func(7,3)->52\n",
      "simple_func(y=7,x=3)->16\n"
     ]
    }
   ],
   "source": [
    "#function定义函数\n",
    "print(\"simple_func(3,7)->{}\".format(simple_func(3,7)))\n",
    "print(\"simple_func(7,3)->{}\".format(simple_func(7,3)))\n",
    "print(\"simple_func(y=7,x=3)->{}\".format(simple_func(y=7,x=3)))\n",
    "\n"
   ]
  },
  {
   "cell_type": "code",
   "execution_count": 58,
   "id": "96dc3063-9212-4be5-aeeb-da8115bc6a96",
   "metadata": {},
   "outputs": [
    {
     "name": "stdout",
     "output_type": "stream",
     "text": [
      "fibonacci(6,9)->[5, 8, 13, 21, 34, 55, 89, 144, 233]\n",
      "fibonacci(7,9)->[8, 13, 21, 34, 55, 89, 144, 233, 377]\n"
     ]
    }
   ],
   "source": [
    "#定义斐波那契数列函数\n",
    "def fibonacci(s,count): #定义fib函数的方法较笨\n",
    "    fib_lst=[0,1]\n",
    "    fib_part=[]\n",
    "    if s==0 or s==1:\n",
    "        fib_part[:]=fib_lst\n",
    "        for i in range(count-2):\n",
    "            fib_part.append(fib_part[-1]+fib_part[-2])\n",
    "    else:\n",
    "        while True:\n",
    "            fib_lst[:]=[fib_lst[1],fib_lst[0]+fib_lst[1]]\n",
    "            #print(fib_lst)\n",
    "            if fib_lst[1]-s>=0:break\n",
    "        fib_part[:]=fib_lst\n",
    "        if abs(fib_lst[0]-s)>=abs(fib_lst[1]-s):\n",
    "            for i in range(count-1):\n",
    "                fib_part.append(fib_part[-1]+fib_part[-2])\n",
    "            fib_part.pop(0)\n",
    "        else:\n",
    "            for i in range(count-2):\n",
    "                fib_part.append(fib_part[-1]+fib_part[-2])\n",
    "    return fib_part\n",
    "\n",
    "print(\"fibonacci(6,9)->{}\".format(fibonacci(6,9)))\n",
    "print(\"fibonacci(7,9)->{}\".format(fibonacci(7,9)))\n"
   ]
  },
  {
   "cell_type": "code",
   "execution_count": 59,
   "id": "fe378e70-2e77-47e9-be0a-5dea24ccd981",
   "metadata": {},
   "outputs": [
    {
     "name": "stdout",
     "output_type": "stream",
     "text": [
      "5040\n"
     ]
    }
   ],
   "source": [
    "#递归\n",
    "def factorial(n):\n",
    "    if n==1:\n",
    "        return 1\n",
    "    else:\n",
    "        return n*factorial(n-1)\n",
    "print(factorial(7))\n"
   ]
  },
  {
   "cell_type": "code",
   "execution_count": 64,
   "id": "c8fbb7f6-ea6f-47f7-a787-5c6a190fa119",
   "metadata": {},
   "outputs": [
    {
     "name": "stdout",
     "output_type": "stream",
     "text": [
      "swift.fly->Whirring\n",
      "swift.eat()->\n",
      "Aaaah...\n",
      "swift.eat()->\n",
      "No.Thanks!\n",
      "swift.sing()->\n",
      "Squawk!\n"
     ]
    }
   ],
   "source": [
    "#定义类class Bird:\n",
    "swift=Apodidae()\n",
    "print(\"swift.fly->{}\".format(swift.fly))\n",
    "print(\"swift.eat()->\")\n",
    "swift.eat()\n",
    "print(\"swift.eat()->\")\n",
    "swift.eat()\n",
    "print(\"swift.sing()->\")\n",
    "swift.sing()\n",
    "\n"
   ]
  },
  {
   "cell_type": "code",
   "execution_count": 66,
   "id": "1614cef2-3d2d-415f-92c8-47eb1f91d202",
   "metadata": {},
   "outputs": [
    {
     "name": "stdout",
     "output_type": "stream",
     "text": [
      "blackswift.sing()->\n",
      "Squawk!\n",
      "scarceswift.sing()->\n",
      "Squawk!\n"
     ]
    }
   ],
   "source": [
    "#类与类\n",
    "blackswift=Apodidae()\n",
    "scarceswift=Apodidae()\n",
    "print(\"blackswift.sing()->\")\n",
    "blackswift.sing()\n",
    "print(\"scarceswift.sing()->\")\n",
    "scarceswift.sing()"
   ]
  },
  {
   "cell_type": "code",
   "execution_count": 67,
   "id": "045c47f1-5b51-462e-a5b1-f09301b46a5f",
   "metadata": {},
   "outputs": [
    {
     "name": "stdout",
     "output_type": "stream",
     "text": [
      "blackswift.fly->Whirring\n",
      "blackswift.fly after redefining the blackswif's attribute->humming\n",
      "scarceswift.fly->Whirring\n"
     ]
    }
   ],
   "source": [
    "#类的属性\n",
    "print(\"blackswift.fly->{}\".format(blackswift.fly))\n",
    "blackswift.fly='humming' #重新赋予实例的属性\n",
    "print(\"blackswift.fly after redefining the blackswif's attribute->{}\".format(blackswift.fly))\n",
    "print(\"scarceswift.fly->{}\".format(scarceswift.fly))\n"
   ]
  },
  {
   "cell_type": "code",
   "execution_count": 68,
   "id": "0093cbeb-0490-45c5-87ea-2c778e21b1d2",
   "metadata": {},
   "outputs": [
    {
     "name": "stdout",
     "output_type": "stream",
     "text": [
      "Squawk!\n"
     ]
    }
   ],
   "source": [
    "#类的方法\n",
    "blackswift.sing()\n"
   ]
  },
  {
   "cell_type": "code",
   "execution_count": 69,
   "id": "725e25cb-ff28-401e-9df3-1db65ada9303",
   "metadata": {},
   "outputs": [
    {
     "name": "stdout",
     "output_type": "stream",
     "text": [
      "Help on class Bird in module __main__:\n",
      "\n",
      "class Bird(builtins.object)\n",
      " |  Methods defined here:\n",
      " |  \n",
      " |  __init__(self)\n",
      " |      Initialize self.  See help(type(self)) for accurate signature.\n",
      " |  \n",
      " |  eat(self)\n",
      " |  \n",
      " |  ----------------------------------------------------------------------\n",
      " |  Data descriptors defined here:\n",
      " |  \n",
      " |  __dict__\n",
      " |      dictionary for instance variables (if defined)\n",
      " |  \n",
      " |  __weakref__\n",
      " |      list of weak references to the object (if defined)\n",
      " |  \n",
      " |  ----------------------------------------------------------------------\n",
      " |  Data and other attributes defined here:\n",
      " |  \n",
      " |  fly = 'Whirring'\n",
      "\n"
     ]
    }
   ],
   "source": [
    "#超类+子类\n",
    "help(Bird)\n"
   ]
  },
  {
   "cell_type": "code",
   "execution_count": 70,
   "id": "0c279867-42c5-4445-93ea-02880c160989",
   "metadata": {},
   "outputs": [
    {
     "name": "stdout",
     "output_type": "stream",
     "text": [
      "Help on class Apodidae in module __main__:\n",
      "\n",
      "class Apodidae(Bird)\n",
      " |  Method resolution order:\n",
      " |      Apodidae\n",
      " |      Bird\n",
      " |      builtins.object\n",
      " |  \n",
      " |  Methods defined here:\n",
      " |  \n",
      " |  __init__(self)\n",
      " |      Initialize self.  See help(type(self)) for accurate signature.\n",
      " |  \n",
      " |  sing(self)\n",
      " |  \n",
      " |  ----------------------------------------------------------------------\n",
      " |  Methods inherited from Bird:\n",
      " |  \n",
      " |  eat(self)\n",
      " |  \n",
      " |  ----------------------------------------------------------------------\n",
      " |  Data descriptors inherited from Bird:\n",
      " |  \n",
      " |  __dict__\n",
      " |      dictionary for instance variables (if defined)\n",
      " |  \n",
      " |  __weakref__\n",
      " |      list of weak references to the object (if defined)\n",
      " |  \n",
      " |  ----------------------------------------------------------------------\n",
      " |  Data and other attributes inherited from Bird:\n",
      " |  \n",
      " |  fly = 'Whirring'\n",
      "\n"
     ]
    }
   ],
   "source": [
    "help(Apodidae)\n"
   ]
  },
  {
   "cell_type": "code",
   "execution_count": 74,
   "id": "347b0cd0-f87e-486e-ba46-32b94e2ca3d4",
   "metadata": {},
   "outputs": [
    {
     "name": "stdout",
     "output_type": "stream",
     "text": [
      "fa=[1, 1, 2, 3, 5, 8, 13, 21, 34]\n",
      "fb=[55, 89, 144, 233, 377]\n"
     ]
    }
   ],
   "source": [
    "#迭代方法往往用于读取数据\n",
    "#随机读取小批量\n",
    "f=Fibs()\n",
    "fa=[]\n",
    "fb=[]\n",
    "for i in range(9):\n",
    "    fa.append(f.next())\n",
    "print(\"fa={}\".format(fa))\n",
    "for i in range(5):\n",
    "    fb.append(f.next())\n",
    "print(\"fb={}\".format(fb))\n"
   ]
  },
  {
   "cell_type": "code",
   "execution_count": 79,
   "id": "d9cc6270-ae86-43e8-a6ad-8d095daedd3b",
   "metadata": {},
   "outputs": [
    {
     "name": "stdout",
     "output_type": "stream",
     "text": [
      "lst_e=[[3, 6, 9, 12, 15, 18], [3, 7, 67, [0, 1, 2, 3, 4], 89]]\n",
      "__________________________________________________\n",
      "flatten_lst=[3, 6, 9, 12, 15, 18, 3, 7, 67, 0, 1, 2, 3, 4, 89]\n"
     ]
    }
   ],
   "source": [
    "#一般\n",
    "lst_e=[list(range(3,20,3)),[3,7,67,list(range(5)),89]]\n",
    "print(\"lst_e={}\".format(lst_e))\n",
    "print(\"_\"*50)\n",
    "flatten_lst=[]\n",
    "for v_1 in lst_e:\n",
    "    try:\n",
    "        for v_2 in v_1:\n",
    "            try:\n",
    "                for v_3 in v_2:\n",
    "                    flatten_lst.append(v_3)\n",
    "            except TypeError:\n",
    "                flatten_lst.append(v_2)\n",
    "    except TypeError:\n",
    "        flatten_lst.append(v_1)\n",
    "print(\"flatten_lst={}\".format(flatten_lst))\n"
   ]
  },
  {
   "cell_type": "code",
   "execution_count": 81,
   "id": "899a6a61-022c-416d-acbb-e0e6f46ed1b2",
   "metadata": {},
   "outputs": [
    {
     "name": "stdout",
     "output_type": "stream",
     "text": [
      "list(flatten(lst_e))->[3, 6, 9, 12, 15, 18, 3, 7, 67, 0, 1, 2, 3, 4, 89]\n"
     ]
    }
   ],
   "source": [
    "#生成器方法 \n",
    "print(\"list(flatten(lst_e))->{}\".format(list(flatten(lst_e))))\n"
   ]
  },
  {
   "cell_type": "code",
   "execution_count": 84,
   "id": "eeac68c5-6402-4a19-b6de-516efba664d6",
   "metadata": {},
   "outputs": [
    {
     "name": "stdout",
     "output_type": "stream",
     "text": [
      "[[(2*pi*(2*(u/(n-1))-1),2*pi*(2*(v/(n-1))-1)) for u in range(n)] for v in range(n)]->[[(-6.283185307179586, -6.283185307179586), (0.0, -6.283185307179586), (6.283185307179586, -6.283185307179586)], [(-6.283185307179586, 0.0), (0.0, 0.0), (6.283185307179586, 0.0)], [(-6.283185307179586, 6.283185307179586), (0.0, 6.283185307179586), (6.283185307179586, 6.283185307179586)]]\n",
      "__________________________________________________\n",
      "([(2*pi*(2*(u/(n-1))-1),2*pi*(2*(v/(n-1))-1)) for u in range(n)] for v in range(n))-><generator object <genexpr> at 0x000001C174238120>\n",
      "next(gen)->[(-6.283185307179586, -6.283185307179586), (0.0, -6.283185307179586), (6.283185307179586, -6.283185307179586)]\n",
      "next(gen)->[(-6.283185307179586, 0.0), (0.0, 0.0), (6.283185307179586, 0.0)]\n"
     ]
    }
   ],
   "source": [
    "#生成器表达式(generator expression)\n",
    "n=3\n",
    "print(\"[[(2*pi*(2*(u/(n-1))-1),2*pi*(2*(v/(n-1))-1)) for u in range(n)] for v in range(n)]->{}\".format([[(2*pi*(2*(u/(n-1))-1),2*pi*(2*(v/(n-1))-1)) for u in range(n)] for v in range(n)]))\n",
    "print(\"_\"*50)\n",
    "print(\"([(2*pi*(2*(u/(n-1))-1),2*pi*(2*(v/(n-1))-1)) for u in range(n)] for v in range(n))->{}\".format(([(2*pi*(2*(u/(n-1))-1),2*pi*(2*(v/(n-1))-1)) for u in range(n)] for v in range(n))))\n",
    "gen=([(2*pi*(2*(u/(n-1))-1),2*pi*(2*(v/(n-1))-1)) for u in range(n)] for v in range(n))\n",
    "print(\"next(gen)->{}\".format(next(gen)))\n",
    "print(\"next(gen)->{}\".format(next(gen)))\n"
   ]
  },
  {
   "cell_type": "code",
   "execution_count": 85,
   "id": "c437448a-19ad-4ac4-9399-2d1b626de355",
   "metadata": {},
   "outputs": [
    {
     "name": "stdout",
     "output_type": "stream",
     "text": [
      "f_convert_a('3.1415')->3.1415\n",
      "f_convert_a('string')->string\n",
      "f_convert_a(3,6,7)->(3, 6, 7)\n"
     ]
    }
   ],
   "source": [
    "#使用except语句时如果不待任何异常类型，将会捕捉所有异常，但是会捕捉到很多不必要的异常，应该尽量避免使用\n",
    "def f_convert_a(x):\n",
    "    try:\n",
    "        return float(x)\n",
    "    except:\n",
    "        return x\n",
    "print(\"f_convert_a('3.1415')->{}\".format(f_convert_a('3.1415')))    \n",
    "print(\"f_convert_a('string')->{}\".format(f_convert_a('string')))  \n",
    "print(\"f_convert_a(3,6,7)->{}\".format(f_convert_a((3,6,7))))  \n"
   ]
  },
  {
   "cell_type": "code",
   "execution_count": 87,
   "id": "10bbed8a-f2f3-43fc-8f34-a26e17649604",
   "metadata": {},
   "outputs": [
    {
     "name": "stdout",
     "output_type": "stream",
     "text": [
      "f_convert_c('3.1415')->3.1415\n",
      "f_convert_c('string')->string\n",
      "(3, 6, 7) TypeError\n",
      "f_convert_c(3,6,7)->None\n"
     ]
    }
   ],
   "source": [
    "def f_convert_c(x):\n",
    "    try:\n",
    "        return float(x)\n",
    "    except ValueError:\n",
    "        return x\n",
    "    except TypeError:\n",
    "        print(x,'TypeError')\n",
    "print(\"f_convert_c('3.1415')->{}\".format(f_convert_c('3.1415')))    \n",
    "print(\"f_convert_c('string')->{}\".format(f_convert_c('string')))  \n",
    "print(\"f_convert_c(3,6,7)->{}\".format(f_convert_c((3,6,7))))         \n"
   ]
  },
  {
   "cell_type": "code",
   "execution_count": 88,
   "id": "e03102e6-c5c4-4dd6-8823-90ed7b0fc187",
   "metadata": {},
   "outputs": [
    {
     "ename": "SyntaxError",
     "evalue": "invalid syntax (<ipython-input-88-b473139e3b88>, line 3)",
     "output_type": "error",
     "traceback": [
      "\u001b[1;36m  File \u001b[1;32m\"<ipython-input-88-b473139e3b88>\"\u001b[1;36m, line \u001b[1;32m3\u001b[0m\n\u001b[1;33m    do something\u001b[0m\n\u001b[1;37m       ^\u001b[0m\n\u001b[1;31mSyntaxError\u001b[0m\u001b[1;31m:\u001b[0m invalid syntax\n"
     ]
    }
   ],
   "source": [
    "#处理程序也可以捕捉多种类型异常\n",
    "try:\n",
    "    do something\n",
    "except (TypeError, ValueError ):\n",
    "    do something\n"
   ]
  },
  {
   "cell_type": "code",
   "execution_count": 89,
   "id": "2d28074e-1243-4450-b15d-38a827dfbf5a",
   "metadata": {},
   "outputs": [
    {
     "name": "stdout",
     "output_type": "stream",
     "text": [
      "f_convert_d('3.1415')->3.1415\n",
      "string ValueError or TypeError\n",
      "f_convert_d('string')->None\n",
      "(3, 6, 7) ValueError or TypeError\n",
      "f_convert_d(3,6,7)->None\n"
     ]
    }
   ],
   "source": [
    "def f_convert_d(x):\n",
    "\n",
    "    try:\n",
    "        return float(x)\n",
    "    except (ValueError,TypeError):\n",
    "        print(x,'ValueError or TypeError')\n",
    "print(\"f_convert_d('3.1415')->{}\".format(f_convert_d('3.1415')))    \n",
    "print(\"f_convert_d('string')->{}\".format(f_convert_d('string')))  \n",
    "print(\"f_convert_d(3,6,7)->{}\".format(f_convert_d((3,6,7)))) \n",
    "#处理程序也可以捕捉多种类型异常"
   ]
  },
  {
   "cell_type": "code",
   "execution_count": 90,
   "id": "0441e45e-2ad8-4e3b-b2ae-e3b6a8b0c7cc",
   "metadata": {},
   "outputs": [
    {
     "name": "stdout",
     "output_type": "stream",
     "text": [
      "f_convert_e('3.1415')->3.1415\n",
      "string could not convert string to float: 'string'\n",
      "f_convert_e('string')->None\n",
      "(3, 6, 7) float() argument must be a string or a number, not 'tuple'\n",
      "f_convert_e(3,6,7)->None\n"
     ]
    }
   ],
   "source": [
    "def f_convert_e(x):\n",
    "    try:\n",
    "        return float(x)\n",
    "    except (ValueError,TypeError) as e:\n",
    "        return print(x,e)\n",
    "print(\"f_convert_e('3.1415')->{}\".format(f_convert_e('3.1415')))    \n",
    "print(\"f_convert_e('string')->{}\".format(f_convert_e('string')))  \n",
    "print(\"f_convert_e(3,6,7)->{}\".format(f_convert_e((3,6,7))))    \n"
   ]
  },
  {
   "cell_type": "code",
   "execution_count": 91,
   "id": "02a16b1f-26ae-4759-86a1-dc9b92202eb9",
   "metadata": {},
   "outputs": [
    {
     "ename": "IndentationError",
     "evalue": "expected an indented block (<ipython-input-91-032e92d83932>, line 2)",
     "output_type": "error",
     "traceback": [
      "\u001b[1;36m  File \u001b[1;32m\"<ipython-input-91-032e92d83932>\"\u001b[1;36m, line \u001b[1;32m2\u001b[0m\n\u001b[1;33m    try:\u001b[0m\n\u001b[1;37m    ^\u001b[0m\n\u001b[1;31mIndentationError\u001b[0m\u001b[1;31m:\u001b[0m expected an indented block\n"
     ]
    }
   ],
   "source": [
    "def f_convert_f(x):\n",
    "try:\n",
    "    return float(x)\n",
    "except ValueError as e:\n",
    "    pass\n",
    "\n"
   ]
  },
  {
   "cell_type": "code",
   "execution_count": 92,
   "id": "572133d3-431d-4173-91f0-2f919727d661",
   "metadata": {},
   "outputs": [
    {
     "name": "stdout",
     "output_type": "stream",
     "text": [
      "f_convert_f('3.1415')->3.1415\n",
      "f_convert_f('string')->None\n",
      "f_convert_f(3,6,7)->None\n"
     ]
    }
   ],
   "source": [
    "#pass语句忽略异常\n",
    "def f_convert_f(x):\n",
    "    try:\n",
    "        return float(x)\n",
    "    except (ValueError,TypeError) as e:\n",
    "        pass\n",
    "print(\"f_convert_f('3.1415')->{}\".format(f_convert_f('3.1415')))    \n",
    "print(\"f_convert_f('string')->{}\".format(f_convert_f('string')))  \n",
    "print(\"f_convert_f(3,6,7)->{}\".format(f_convert_f((3,6,7))))     \n"
   ]
  },
  {
   "cell_type": "code",
   "execution_count": 93,
   "id": "d42b98f0-653a-4036-9893-c37b770a3e3b",
   "metadata": {},
   "outputs": [
    {
     "ename": "IndentationError",
     "evalue": "expected an indented block (<ipython-input-93-7e9d17a7cd5a>, line 2)",
     "output_type": "error",
     "traceback": [
      "\u001b[1;36m  File \u001b[1;32m\"<ipython-input-93-7e9d17a7cd5a>\"\u001b[1;36m, line \u001b[1;32m2\u001b[0m\n\u001b[1;33m    try:\u001b[0m\n\u001b[1;37m    ^\u001b[0m\n\u001b[1;31mIndentationError\u001b[0m\u001b[1;31m:\u001b[0m expected an indented block\n"
     ]
    }
   ],
   "source": [
    "def f_open_a(fp):\n",
    "try:\n",
    "    do something\n",
    "except IOError as e:\n",
    "    do something\n",
    "else:\n",
    "    do something\n",
    "#try语句也支持else子句，但是不需跟在最后一个except子句的后面。如果try代码块中的程序没有引发异常，将会执行else子句中的程序："
   ]
  },
  {
   "cell_type": "code",
   "execution_count": 94,
   "id": "41a4211c-f927-43cc-98a7-cb142c69dcd9",
   "metadata": {},
   "outputs": [
    {
     "name": "stdout",
     "output_type": "stream",
     "text": [
      "Unable to open ./data/tryException.txt :[Errno 2] No such file or directory: './data/tryException.txt'\n",
      "\n",
      "tryException_content->None\n",
      "Unable to open ./data/tryException_.txt :[Errno 2] No such file or directory: './data/tryException_.txt'\n",
      "\n"
     ]
    }
   ],
   "source": [
    "def f_open_a(fp):\n",
    "    try:\n",
    "        f=open(fp,'r')\n",
    "    except IOError as e:\n",
    "        print('Unable to open',fp,':%s\\n' %e)\n",
    "    else:\n",
    "        data=f.read()\n",
    "        f.close\n",
    "        return data\n",
    "tryException_content=f_open_a(\"./data/tryException.txt\")   \n",
    "print(\"tryException_content->{}\".format(tryException_content))\n",
    "f_open_a(\"./data/tryException_.txt\")\n"
   ]
  },
  {
   "cell_type": "code",
   "execution_count": 95,
   "id": "3ffc8453-c630-4abd-a927-8b6f3b094f83",
   "metadata": {},
   "outputs": [
    {
     "ename": "IndentationError",
     "evalue": "expected an indented block (<ipython-input-95-bfe12e6dbad0>, line 2)",
     "output_type": "error",
     "traceback": [
      "\u001b[1;36m  File \u001b[1;32m\"<ipython-input-95-bfe12e6dbad0>\"\u001b[1;36m, line \u001b[1;32m2\u001b[0m\n\u001b[1;33m    try:\u001b[0m\n\u001b[1;37m    ^\u001b[0m\n\u001b[1;31mIndentationError\u001b[0m\u001b[1;31m:\u001b[0m expected an indented block\n"
     ]
    }
   ],
   "source": [
    "def f_open_a(fp):\n",
    "try:\n",
    "    do something\n",
    "except IOError as e:\n",
    "    do something\n",
    "else:\n",
    "    do something\n",
    "finally:\n",
    "    do something\n",
    "\n",
    "    #如果引发了异常，控制权首先传递给finally子句的第一条语句。这段代码执行完毕后，将重新引发异常然后交由另一个异常处理程序进行处理。"
   ]
  },
  {
   "cell_type": "code",
   "execution_count": 96,
   "id": "dce5fe28-9cb0-4946-8636-81c2ddc0360a",
   "metadata": {},
   "outputs": [
    {
     "name": "stdout",
     "output_type": "stream",
     "text": [
      "Unable to open ./data/tryException.txt :[Errno 2] No such file or directory: './data/tryException.txt'\n",
      "\n",
      "done!\n"
     ]
    }
   ],
   "source": [
    "def f_open_b(fp):\n",
    "    try:\n",
    "        f=open(fp,'r')\n",
    "    except IOError as e:\n",
    "        print('Unable to open',fp,':%s\\n' %e)\n",
    "    else:\n",
    "        data=f.read()\n",
    "        f.close()\n",
    "        return data\n",
    "    finally:\n",
    "        print('done!')\n",
    "f_open_b(\"./data/tryException.txt\")        \n"
   ]
  },
  {
   "cell_type": "code",
   "execution_count": 103,
   "id": "6d4b7792-2aa4-42f3-8b5f-b656a46f21ea",
   "metadata": {},
   "outputs": [],
   "source": [
    "x=20\n",
    "assert x>0 #为真则不做任何事情\n"
   ]
  },
  {
   "cell_type": "code",
   "execution_count": 104,
   "id": "00311785-dad8-4663-bd93-7192bc24ebd4",
   "metadata": {},
   "outputs": [
    {
     "ename": "AssertionError",
     "evalue": "",
     "output_type": "error",
     "traceback": [
      "\u001b[1;31m---------------------------------------------------------------------------\u001b[0m",
      "\u001b[1;31mAssertionError\u001b[0m                            Traceback (most recent call last)",
      "\u001b[1;32m<ipython-input-104-ba7c61fb1b4f>\u001b[0m in \u001b[0;36m<module>\u001b[1;34m\u001b[0m\n\u001b[1;32m----> 1\u001b[1;33m \u001b[1;32massert\u001b[0m \u001b[0mx\u001b[0m\u001b[1;33m<\u001b[0m\u001b[1;36m0\u001b[0m \u001b[1;31m#为假则引发AssertionError异常\u001b[0m\u001b[1;33m\u001b[0m\u001b[1;33m\u001b[0m\u001b[0m\n\u001b[0m",
      "\u001b[1;31mAssertionError\u001b[0m: "
     ]
    }
   ],
   "source": [
    "assert x<0 #为假则引发AssertionError异常"
   ]
  },
  {
   "cell_type": "code",
   "execution_count": 105,
   "id": "7ed74027-3f63-4c19-b2e8-740119f5d148",
   "metadata": {},
   "outputs": [
    {
     "ename": "Exception",
     "evalue": "",
     "output_type": "error",
     "traceback": [
      "\u001b[1;31m---------------------------------------------------------------------------\u001b[0m",
      "\u001b[1;31mException\u001b[0m                                 Traceback (most recent call last)",
      "\u001b[1;32m<ipython-input-105-bf8b6f815544>\u001b[0m in \u001b[0;36m<module>\u001b[1;34m\u001b[0m\n\u001b[0;32m      1\u001b[0m \u001b[1;31m#raise 引发异常\u001b[0m\u001b[1;33m\u001b[0m\u001b[1;33m\u001b[0m\u001b[1;33m\u001b[0m\u001b[0m\n\u001b[1;32m----> 2\u001b[1;33m \u001b[1;32mraise\u001b[0m \u001b[0mException\u001b[0m \u001b[1;31m#没有任何有关错误信息的普通异常\u001b[0m\u001b[1;33m\u001b[0m\u001b[1;33m\u001b[0m\u001b[0m\n\u001b[0m",
      "\u001b[1;31mException\u001b[0m: "
     ]
    }
   ],
   "source": [
    "#raise 引发异常\n",
    "raise Exception #没有任何有关错误信息的普通异常\n"
   ]
  },
  {
   "cell_type": "code",
   "execution_count": 106,
   "id": "9c9b215e-bf4c-4f4a-9fcb-4c3157da963a",
   "metadata": {},
   "outputs": [
    {
     "ename": "Exception",
     "evalue": "Computer says no!",
     "output_type": "error",
     "traceback": [
      "\u001b[1;31m---------------------------------------------------------------------------\u001b[0m",
      "\u001b[1;31mException\u001b[0m                                 Traceback (most recent call last)",
      "\u001b[1;32m<ipython-input-106-9adaf43138bd>\u001b[0m in \u001b[0;36m<module>\u001b[1;34m\u001b[0m\n\u001b[1;32m----> 1\u001b[1;33m \u001b[1;32mraise\u001b[0m \u001b[0mException\u001b[0m\u001b[1;33m(\u001b[0m\u001b[1;34m'Computer says no!'\u001b[0m\u001b[1;33m)\u001b[0m \u001b[1;31m#添加错误信息的异常\u001b[0m\u001b[1;33m\u001b[0m\u001b[1;33m\u001b[0m\u001b[0m\n\u001b[0m",
      "\u001b[1;31mException\u001b[0m: Computer says no!"
     ]
    }
   ],
   "source": [
    "raise Exception('Computer says no!') #添加错误信息的异常\n"
   ]
  },
  {
   "cell_type": "code",
   "execution_count": 107,
   "id": "75e7f7ee-351b-44f1-8f30-630be4d55186",
   "metadata": {},
   "outputs": [
    {
     "ename": "some_custom_exception",
     "evalue": "",
     "output_type": "error",
     "traceback": [
      "\u001b[1;31m---------------------------------------------------------------------------\u001b[0m",
      "\u001b[1;31msome_custom_exception\u001b[0m                     Traceback (most recent call last)",
      "\u001b[1;32m<ipython-input-107-dd2d27a8cc29>\u001b[0m in \u001b[0;36m<module>\u001b[1;34m\u001b[0m\n\u001b[0;32m      1\u001b[0m \u001b[1;32mclass\u001b[0m \u001b[0msome_custom_exception\u001b[0m\u001b[1;33m(\u001b[0m\u001b[0mException\u001b[0m\u001b[1;33m)\u001b[0m\u001b[1;33m:\u001b[0m\u001b[1;32mpass\u001b[0m \u001b[1;31m#\u001b[0m\u001b[1;33m\u001b[0m\u001b[1;33m\u001b[0m\u001b[0m\n\u001b[1;32m----> 2\u001b[1;33m \u001b[1;32mraise\u001b[0m \u001b[0msome_custom_exception\u001b[0m\u001b[1;33m\u001b[0m\u001b[1;33m\u001b[0m\u001b[0m\n\u001b[0m",
      "\u001b[1;31msome_custom_exception\u001b[0m: "
     ]
    }
   ],
   "source": [
    "class some_custom_exception(Exception):pass #\n",
    "raise some_custom_exception\n"
   ]
  },
  {
   "cell_type": "code",
   "execution_count": null,
   "id": "0867843b-a2ee-476d-901b-513231078179",
   "metadata": {},
   "outputs": [],
   "source": []
  }
 ],
 "metadata": {
  "kernelspec": {
   "display_name": "Python 3",
   "language": "python",
   "name": "python3"
  },
  "language_info": {
   "codemirror_mode": {
    "name": "ipython",
    "version": 3
   },
   "file_extension": ".py",
   "mimetype": "text/x-python",
   "name": "python",
   "nbconvert_exporter": "python",
   "pygments_lexer": "ipython3",
   "version": "3.8.8"
  }
 },
 "nbformat": 4,
 "nbformat_minor": 5
}
